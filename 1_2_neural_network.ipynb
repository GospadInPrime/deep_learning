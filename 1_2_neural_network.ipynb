{
 "cells": [
  {
   "attachments": {},
   "cell_type": "markdown",
   "metadata": {},
   "source": [
    "Прогнозирование с несколькими входами"
   ]
  },
  {
   "cell_type": "code",
   "execution_count": 3,
   "metadata": {},
   "outputs": [],
   "source": [
    "# 1. Чистая сеть с несколькими входами\n",
    "weights = [0.1, 0.2, 0]\n",
    "def neural_network(onput, weights):\n",
    "    pred = w_sum(input, weights)\n",
    "    return pred\n"
   ]
  },
  {
   "cell_type": "code",
   "execution_count": 8,
   "metadata": {},
   "outputs": [],
   "source": [
    "# 2. Вычисление взвешенной суммы входов\n",
    "def w_sum(a, b):\n",
    "    assert(len(a) == len(b))\n",
    "    output = 0\n",
    "    for i in range(len(a)):\n",
    "        output += (a[i] * b[i])\n",
    "    return output"
   ]
  },
  {
   "cell_type": "code",
   "execution_count": 10,
   "metadata": {},
   "outputs": [
    {
     "data": {
      "text/plain": [
       "0.9800000000000001"
      ]
     },
     "execution_count": 10,
     "metadata": {},
     "output_type": "execute_result"
    }
   ],
   "source": [
    "# 4. Передача одной точки и получение прогноза\n",
    "toes = [8.5, 9.5, 9.9, 9.0] # Среднее число игр, согранных игроками\n",
    "wrlec = [0.65, 0.8, 0.8, 0.9] # Текущая доля игр, окончившихся\n",
    "nfans = [0.1, 1.3, 0.5, 1.0] # Число болельщиков(в миллионах)\n",
    "\n",
    "input = [toes[0], wrlec[0], nfans[0]] # Передаём запись, соответствующую первой игре в сезоне\n",
    "pred = neural_network(input, weights)\n",
    "pred \n",
    "\n"
   ]
  }
 ],
 "metadata": {
  "kernelspec": {
   "display_name": "Python 3",
   "language": "python",
   "name": "python3"
  },
  "language_info": {
   "codemirror_mode": {
    "name": "ipython",
    "version": 3
   },
   "file_extension": ".py",
   "mimetype": "text/x-python",
   "name": "python",
   "nbconvert_exporter": "python",
   "pygments_lexer": "ipython3",
   "version": "3.11.1"
  },
  "orig_nbformat": 4
 },
 "nbformat": 4,
 "nbformat_minor": 2
}
