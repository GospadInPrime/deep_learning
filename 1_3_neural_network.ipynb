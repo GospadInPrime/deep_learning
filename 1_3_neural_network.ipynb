{
 "cells": [
  {
   "attachments": {},
   "cell_type": "markdown",
   "metadata": {},
   "source": [
    "Прогнозирование с несколькими выходами"
   ]
  },
  {
   "cell_type": "code",
   "execution_count": 2,
   "metadata": {},
   "outputs": [],
   "source": [
    "# 1. Чистая сеть с несколькими выходами\n",
    "weights = [0.3, 0.2, 0.9]\n",
    "\n",
    "def neural_network(input, weights):\n",
    "    pred = ele_mul(input, weights)\n",
    "    return pred"
   ]
  },
  {
   "cell_type": "code",
   "execution_count": 3,
   "metadata": {},
   "outputs": [],
   "source": [
    "# 2. Передача одной точки данных и выполнение поэлементного умножения\n",
    "def ele_mul(number, vector):\n",
    "    output = [0, 0, 0]\n",
    "    assert(len(output) == len(vector))\n",
    "    for i in range(len(vector)):\n",
    "        output[i] = number * vector[i]\n",
    "    return output\n",
    "\n",
    "def neural_network(input, weights):\n",
    "    pred = ele_mul(input, weights)\n",
    "    return pred\n",
    "\n",
    "wrlec = [0.65, 0.8, 0.8, 0.9]\n",
    "input = wrlec[0]\n",
    "pred = neural_network(input, weights)\n"
   ]
  },
  {
   "cell_type": "code",
   "execution_count": 9,
   "metadata": {},
   "outputs": [
    {
     "name": "stdout",
     "output_type": "stream",
     "text": [
      "Прогноз вероятности травм: 0.195\n",
      "Прогноз вероятности победы: 0.13\n",
      "Прогноз вероятности огорчения: 0.5850000000000001\n"
     ]
    }
   ],
   "source": [
    "# 3. Получение прогноза\n",
    "wrlec = [0.65, 0.8, 0.8, 0.9]\n",
    "input = wrlec[0]\n",
    "pred = neural_network(input, weights)\n",
    "print('Прогноз вероятности травм:', pred[0])\n",
    "print('Прогноз вероятности победы:', pred[1])\n",
    "print('Прогноз вероятности огорчения:', pred[2])"
   ]
  }
 ],
 "metadata": {
  "kernelspec": {
   "display_name": "Python 3",
   "language": "python",
   "name": "python3"
  },
  "language_info": {
   "codemirror_mode": {
    "name": "ipython",
    "version": 3
   },
   "file_extension": ".py",
   "mimetype": "text/x-python",
   "name": "python",
   "nbconvert_exporter": "python",
   "pygments_lexer": "ipython3",
   "version": "3.11.1"
  },
  "orig_nbformat": 4
 },
 "nbformat": 4,
 "nbformat_minor": 2
}
