{
 "cells": [
  {
   "attachments": {},
   "cell_type": "markdown",
   "metadata": {},
   "source": [
    "Прогнозирование с несколькими входами и выходами"
   ]
  },
  {
   "cell_type": "code",
   "execution_count": 2,
   "metadata": {},
   "outputs": [],
   "source": [
    "# 1. Чистая сеть с несколькими входами и выходами\n",
    "\n",
    "# игр % побед # болельщиков\n",
    "weights = [[0.1, 0.1, -0.3], # травмы?\n",
    "           [0.1, 0.2, 0.0], # победы?\n",
    "           [0.0, 1.3, 0.1]] # печаль?\n",
    "\n",
    "def neural_network(input, weights):\n",
    "    pred = vect_mat_mul(input, weights)\n",
    "    return pred\n"
   ]
  },
  {
   "cell_type": "code",
   "execution_count": 6,
   "metadata": {},
   "outputs": [],
   "source": [
    "# 2. ДлЯ каждого выхода вычисляется взвешенная \n",
    "def w_sum(a, b):\n",
    "    assert(len(a)== len(b))\n",
    "    output = 0\n",
    "    for i in range(len(a)):\n",
    "        output += (a[i])*(b[i])\n",
    "    return output\n",
    "\n",
    "def vect_mat_mul(vect, matrix):\n",
    "    assert(len(vect) == len(matrix))\n",
    "    output = [0, 0, 0]\n",
    "\n",
    "    for i in range(len(vect)):\n",
    "        output[i] = w_sum(vect, matrix[i])\n",
    "    return output\n",
    "\n",
    "def neutal_network(input, weights):\n",
    "    pred = vect_mat_mul(input, weights)\n",
    "    return pred"
   ]
  },
  {
   "cell_type": "code",
   "execution_count": 9,
   "metadata": {},
   "outputs": [],
   "source": [
    "# 3. Передача одной точки\n",
    "toes = [8.5, 9.5, 9.9, 9.0] # текущее среднее число игр, сыгранных игроками\n",
    "wlrec = [0.65, 0.8, 0.8, 0.9] # текущая доля игр, окончившихся победой\n",
    "nfans = [1.2, 1.3, 0.5, 1.0] # число болельщиков(в мил)\n",
    "\n",
    "input = [toes[0], wlrec[0], nfans[0]]\n",
    "\n",
    "pred = neural_network(input, weights)"
   ]
  },
  {
   "cell_type": "code",
   "execution_count": 16,
   "metadata": {},
   "outputs": [
    {
     "name": "stdout",
     "output_type": "stream",
     "text": [
      "Прогноз вероятности травм: 0.555\n",
      "Прогноз вероятности победы: 0.9800000000000001\n",
      "Прогноз вероятности огорчения: 0.9650000000000001\n"
     ]
    }
   ],
   "source": [
    "# 4. Получение прогноза\n",
    "print('Прогноз вероятности травм:', pred[0])\n",
    "print('Прогноз вероятности победы:', pred[1])\n",
    "print('Прогноз вероятности огорчения:', pred[2])"
   ]
  }
 ],
 "metadata": {
  "kernelspec": {
   "display_name": "Python 3",
   "language": "python",
   "name": "python3"
  },
  "language_info": {
   "codemirror_mode": {
    "name": "ipython",
    "version": 3
   },
   "file_extension": ".py",
   "mimetype": "text/x-python",
   "name": "python",
   "nbconvert_exporter": "python",
   "pygments_lexer": "ipython3",
   "version": "3.11.1"
  },
  "orig_nbformat": 4
 },
 "nbformat": 4,
 "nbformat_minor": 2
}
